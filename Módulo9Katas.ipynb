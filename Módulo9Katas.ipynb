{
 "cells": [
  {
   "cell_type": "markdown",
   "metadata": {},
   "source": [
    "# Ejercicio: Uso de funciones en Python\n",
    "Ejercicio 1: Trabajar con argumentos en funciones"
   ]
  },
  {
   "cell_type": "code",
   "execution_count": 12,
   "metadata": {},
   "outputs": [],
   "source": [
    "def lectura_combustible(tanque1, tanque2, tanque3):\n",
    "    promedio_porcentaje=(tanque1+tanque2+tanque3)/3\n",
    "    return f\"\"\"\n",
    "    combustible de tanque 1 : {tanque1}% \n",
    "    combustible de tanque 2 : {tanque2}% \n",
    "    combustible de tanque 3: {tanque3}% \n",
    "    promedio de porcentage {promedio_porcentaje}%\"\"\"\n",
    "\n"
   ]
  },
  {
   "cell_type": "code",
   "execution_count": 13,
   "metadata": {},
   "outputs": [
    {
     "name": "stdout",
     "output_type": "stream",
     "text": [
      "\n",
      "    combustible de tanque 1 : 4% \n",
      "    combustible de tanque 2 : 5% \n",
      "    combustible de tanque 3: 7% \n",
      "    promedio de porcentage 5.333333333333333%\n"
     ]
    }
   ],
   "source": [
    "informe_conbustible=lectura_combustible(4,5,7) \n",
    "print(informe_conbustible)"
   ]
  },
  {
   "cell_type": "markdown",
   "metadata": {},
   "source": [
    "# Ejercicio 2: Trabajo con argumentos de palabra clave"
   ]
  },
  {
   "cell_type": "code",
   "execution_count": 27,
   "metadata": {},
   "outputs": [],
   "source": [
    "def informe_progreso(hora_prelanzamiento, tiempo_vuelo, destino, tanque_externo, tanque_interno):\n",
    "    return f\"\"\"\n",
    "    Hora de lanzamiento: {hora_prelanzamiento}\n",
    "    Tiempo de vuelo: {tiempo_vuelo}\n",
    "    Destino : {destino}\n",
    "    Tanques: \n",
    "        Ext:    {tanque_externo}\n",
    "        Int:    {tanque_interno}\n",
    "    \"\"\""
   ]
  },
  {
   "cell_type": "code",
   "execution_count": 33,
   "metadata": {},
   "outputs": [
    {
     "name": "stdout",
     "output_type": "stream",
     "text": [
      "\n",
      "    tiempo de recorrido 16 minutos\n",
      "    Destino : Luna\n",
      "    Capacidad restante Tanques: \n",
      "        4000 lts\n",
      "    \n"
     ]
    }
   ],
   "source": [
    "def informe_progreso( destino, *minutos_recorrido, **tanques):\n",
    "    return f\"\"\"\n",
    "    tiempo de recorrido {sum(minutos_recorrido)} minutos\n",
    "    Destino : {destino}\n",
    "    Capacidad restante Tanques: \n",
    "        {sum(tanques.values())} lts\n",
    "    \"\"\"\n",
    "print(informe_progreso(\"Luna\", 5,2,9,a=3000, b=1000))"
   ]
  },
  {
   "cell_type": "code",
   "execution_count": 43,
   "metadata": {},
   "outputs": [
    {
     "name": "stdout",
     "output_type": "stream",
     "text": [
      "\n",
      "    tiempo de recorrido 16 minutos\n",
      "    Destino : Luna\n",
      "    Capacidad de tanques por separado:\n",
      "          a= 3000 lts \n",
      "          b= 1000 lts \n",
      "\n",
      "    \n"
     ]
    }
   ],
   "source": [
    "def informe_progreso( destino, *minutos_recorrido, **tanques):\n",
    "    litros_x_tanque=\"\";\n",
    "    \n",
    "    for tanque, litros in tanques.items():\n",
    "        litros_x_tanque=litros_x_tanque+f\"          {tanque}= {litros} lts \\n\"\n",
    "    return f\"\"\"\n",
    "    tiempo de recorrido {sum(minutos_recorrido)} minutos\n",
    "    Destino : {destino}\n",
    "    Capacidad de tanques por separado:\n",
    "{litros_x_tanque}\n",
    "    \"\"\"\n",
    "    \n",
    "print(informe_progreso(\"Luna\", 5,2,9,a=3000, b=1000))"
   ]
  }
 ],
 "metadata": {
  "interpreter": {
   "hash": "e7569a15529fdc1b1c42469f30affc08eb6a35198f139c12d15ddfa133a45a66"
  },
  "kernelspec": {
   "display_name": "Python 3.9.6 64-bit",
   "language": "python",
   "name": "python3"
  },
  "language_info": {
   "codemirror_mode": {
    "name": "ipython",
    "version": 3
   },
   "file_extension": ".py",
   "mimetype": "text/x-python",
   "name": "python",
   "nbconvert_exporter": "python",
   "pygments_lexer": "ipython3",
   "version": "3.9.6"
  },
  "orig_nbformat": 4
 },
 "nbformat": 4,
 "nbformat_minor": 2
}
