{
 "cells": [
  {
   "cell_type": "markdown",
   "metadata": {},
   "source": [
    "# Ejercicio - Escribir declaraciones if, else, y elif"
   ]
  },
  {
   "cell_type": "markdown",
   "metadata": {},
   "source": [
    "Un asteroide se acerca, y viaja a una velocidad de 49 km/s."
   ]
  },
  {
   "cell_type": "code",
   "execution_count": 2,
   "metadata": {},
   "outputs": [
    {
     "name": "stdout",
     "output_type": "stream",
     "text": [
      "ADVERTENCIA!! ASTEROIDE ACERCANDOSE A VELOCIDADES ANOMALES \n"
     ]
    }
   ],
   "source": [
    "velocidad_asteriode=49\n",
    "\n",
    "if(velocidad_asteriode>=25):\n",
    "    print(\"ADVERTENCIA!! ASTEROIDE ACERCANDOSE A VELOCIDADES ANOMALES \")\n",
    "else:\n",
    "    print(\"ASTEROIDE ACERCANDOSE, VELOCIDADES DENTRO DE LOS PARAMETROS, NO PELIGROSOS, PERO MANTENER BAJO OBSERVACIÓN\")\n",
    "\n",
    "\n",
    "\n"
   ]
  },
  {
   "cell_type": "markdown",
   "metadata": {},
   "source": [
    "Si un asteroide entra en la atmósfera de la Tierra a una velocidad mayor o igual a 20 km/s, a veces produce un rayo de luz que se puede ver desde la Tierra. Escribe la lógica condicional que usa declaraciones if, else, y elif para alertar a las personas de todo el mundo que deben buscar un asteroide en el cielo. ¡Hay uno que se dirige a la tierra ahora a una velocidad de 19 km/s!"
   ]
  },
  {
   "cell_type": "code",
   "execution_count": 7,
   "metadata": {},
   "outputs": [
    {
     "name": "stdout",
     "output_type": "stream",
     "text": [
      "Todo sigue en orden\n"
     ]
    }
   ],
   "source": [
    "velocidad_asteriode=19\n",
    "\n",
    "if(velocidad_asteriode>=20):\n",
    "    print(\"advertencia una luz en el cielo \")\n",
    "else:\n",
    "    print(\"Todo sigue en orden\")"
   ]
  },
  {
   "cell_type": "markdown",
   "metadata": {},
   "source": [
    "# Ejercicio: Uso de operadores and y or\n",
    "Usando toda esta información, escribe un programa que emita la advertencia o información correcta a la gente de la Tierra, según la velocidad y el tamaño de un asteroide. Utiliza instrucciones if, else, y elif, así como los operadores and y or."
   ]
  },
  {
   "cell_type": "code",
   "execution_count": 6,
   "metadata": {},
   "outputs": [
    {
     "name": "stdout",
     "output_type": "stream",
     "text": [
      "Asteroide acercandose, pero dentro de los parametros\n"
     ]
    }
   ],
   "source": [
    "Velocidad_asteriode=10\n",
    "tamaño_asteroide= 258\n",
    "if(Velocidad_asteriode>=20 and Velocidad_asteriode>25):\n",
    "    print(\"Advertencia, Asteroide acercandose a velocidades fuera de los parametros ordinarios\")\n",
    "    if(tamaño_asteroide>25 or tamaño_asteroide<1000):\n",
    "        print(\"ADVERTENCIA!!!!! Asterioide de tamaño y velocidad fuera de los parametros\")\n",
    "    else:\n",
    "        print(\"Asteoide de pequeño tamaño acercandose a gran velocidad, mantener en observación\")\n",
    "elif(Velocidad_asteriode>=20 and Velocidad_asteriode<25):\n",
    "    print(\"Advertencia, Asteroide acercandose a velocidades fuera de los parametros ordinarios, pero no rebasa los 25 KM/h\")\n",
    "    if(tamaño_asteroide>25 or tamaño_asteroide<1000):\n",
    "        print(\"ADVERTENCIA!!!!! Asterioide de tamaño y velocidad fuera de los parametros\")\n",
    "    else:\n",
    "        print(\"Asteoide de pequeño tamaño acercandose a gran velocidad, mantener en observación\")\n",
    "else:\n",
    "    print(\"Asteroide acercandose, pero dentro de los parametros\")"
   ]
  }
 ],
 "metadata": {
  "interpreter": {
   "hash": "e7569a15529fdc1b1c42469f30affc08eb6a35198f139c12d15ddfa133a45a66"
  },
  "kernelspec": {
   "display_name": "Python 3.9.6 64-bit",
   "language": "python",
   "name": "python3"
  },
  "language_info": {
   "codemirror_mode": {
    "name": "ipython",
    "version": 3
   },
   "file_extension": ".py",
   "mimetype": "text/x-python",
   "name": "python",
   "nbconvert_exporter": "python",
   "pygments_lexer": "ipython3",
   "version": "3.9.6"
  },
  "orig_nbformat": 4
 },
 "nbformat": 4,
 "nbformat_minor": 2
}
